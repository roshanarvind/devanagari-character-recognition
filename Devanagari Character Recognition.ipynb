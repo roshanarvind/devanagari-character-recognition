{
 "cells": [
  {
   "cell_type": "markdown",
   "metadata": {},
   "source": [
    "# Devanagari Character Recognition using Machine Learning"
   ]
  },
  {
   "cell_type": "markdown",
   "metadata": {},
   "source": [
    "## Reading Dataset Images into a CSV file and Creating Sample Datasets"
   ]
  },
  {
   "cell_type": "code",
   "execution_count": null,
   "metadata": {
    "collapsed": false
   },
   "outputs": [],
   "source": [
    "import os\n",
    "import numpy as np\n",
    "import pandas as pd\n",
    "from scipy import misc\n",
    "\n",
    "root_dir = '/home/rishi/Projects/Doing/Devanagari-Character-Recognition'\n",
    "\n",
    "image_dir = os.path.join(root_dir, 'Images')\n",
    "\n",
    "for dir_index, dir_name in enumerate(os.listdir(image_dir)):\n",
    "    image_df = pd.DataFrame()\n",
    "    dir_path = os.path.join(image_dir, dir_name)\n",
    "\n",
    "    for filename in os.listdir(dir_path):\n",
    "        image_list = misc.imread(os.path.join(dir_path, filename)).flatten().tolist()\n",
    "        image_list.append(dir_index)\n",
    "        image_ds = pd.Series(image_list).T\n",
    "        image_df = image_df.append(image_ds, ignore_index=True).astype(dtype=int)\n",
    "        \n",
    "    image_df.to_csv('dataset.csv', index=False, mode='a')\n",
    "    print(\"The Knights who say Ni \" + str(dir_index))  \n",
    "\n",
    "df = pd.read_csv('dataset.csv')\n",
    "\n",
    "df_sample = df.sample(frac=0.5, random_state=10)\n",
    "df_sample.to_csv('one-half-dataset.csv', index=False)\n",
    "\n",
    "df_sample = df.sample(frac=0.33, random_state=10)\n",
    "df_sample.to_csv('one-third-dataset.csv', index=False)\n",
    "\n",
    "df_sample = df.sample(frac=0.1, random_state=10)\n",
    "df_sample.to_csv('one-tenth-dataset.csv', index=False)"
   ]
  },
  {
   "cell_type": "markdown",
   "metadata": {},
   "source": [
    "## Random Forest Classifier Using One-Tenth Dataset sample"
   ]
  },
  {
   "cell_type": "code",
   "execution_count": null,
   "metadata": {
    "collapsed": false
   },
   "outputs": [],
   "source": [
    "import numpy as np\n",
    "import pandas as pd\n",
    "from sklearn import preprocessing\n",
    "from sklearn.model_selection import cross_val_score\n",
    "from sklearn.ensemble import RandomForestClassifier\n",
    "\n",
    "df = pd.read_csv('one-tenth-dataset.csv')\n",
    "lb = preprocessing.LabelBinarizer()\n",
    "\n",
    "# 64 trees in the forest\n",
    "clf = RandomForestClassifier(n_estimators=64)\n",
    "scores = cross_val_score(clf, df.iloc[:, :-1], lb.fit_transform(df.iloc[:, -1])[:, :-1], cv=10)\n",
    "print(\"Mean Score : \", scores.mean())"
   ]
  },
  {
   "cell_type": "code",
   "execution_count": null,
   "metadata": {
    "collapsed": false
   },
   "outputs": [],
   "source": [
    "# 128 trees in the forest\n",
    "clf = RandomForestClassifier(n_estimators=128)\n",
    "scores = cross_val_score(clf, df.iloc[:, :-1], lb.fit_transform(df.iloc[:, -1])[:, :-1], cv=10)\n",
    "print(\"Mean Score : \", scores.mean())"
   ]
  },
  {
   "cell_type": "markdown",
   "metadata": {},
   "source": [
    "## Multi-Perceptron Neural Network Classifier using One-Tenth Dataset sample"
   ]
  },
  {
   "cell_type": "code",
   "execution_count": null,
   "metadata": {
    "collapsed": false
   },
   "outputs": [],
   "source": [
    "import numpy as np\n",
    "import pandas as pd\n",
    "from sklearn import preprocessing\n",
    "from sklearn.model_selection import cross_val_score\n",
    "from sklearn.neural_network import MLPClassifier\n",
    "\n",
    "df = pd.read_csv('one-tenth-dataset.csv')\n",
    "lb = preprocessing.LabelBinarizer()\n",
    "\n",
    "clf = MLPClassifier()\n",
    "scores = cross_val_score(clf, df.iloc[:, :-1], lb.fit_transform(df.iloc[:, -1])[:, :-1], cv=10)\n",
    "print(\"Mean Score : \", scores.mean())"
   ]
  },
  {
   "cell_type": "markdown",
   "metadata": {},
   "source": [
    "## Random Decision Forest Regressor Using One-Tenth Dataset sample"
   ]
  },
  {
   "cell_type": "code",
   "execution_count": null,
   "metadata": {
    "collapsed": false
   },
   "outputs": [],
   "source": [
    "import numpy as np\n",
    "import pandas as pd\n",
    "from sklearn.model_selection import cross_val_score\n",
    "from sklearn.ensemble import RandomForestRegressor\n",
    "\n",
    "df = pd.read_csv('one-tenth-dataset.csv')\n",
    "\n",
    "# 64 trees in the forest\n",
    "clf = RandomForestRegressor(n_estimators=64)\n",
    "scores = cross_val_score(clf, df.iloc[:, :-1], df.iloc[:, -1], cv=10)\n",
    "print(\"Mean Score : \", scores.mean())"
   ]
  },
  {
   "cell_type": "code",
   "execution_count": null,
   "metadata": {
    "collapsed": false
   },
   "outputs": [],
   "source": [
    "# 128 trees in the forest\n",
    "clf = RandomForestRegressor(n_estimators=128)\n",
    "scores = cross_val_score(clf, df.iloc[:, :-1], df.iloc[:, -1], cv=10)\n",
    "print(\"Mean Score : \", scores.mean())"
   ]
  },
  {
   "cell_type": "markdown",
   "metadata": {},
   "source": [
    "## Random Decision Forest Regressor Using One-Third Dataset sample"
   ]
  },
  {
   "cell_type": "code",
   "execution_count": null,
   "metadata": {
    "collapsed": false
   },
   "outputs": [],
   "source": [
    "import numpy as np\n",
    "import pandas as pd\n",
    "from sklearn.model_selection import cross_val_score\n",
    "from sklearn.ensemble import RandomForestRegressor\n",
    "\n",
    "df = pd.read_csv('one-third-dataset.csv')\n",
    "\n",
    "# 64 trees in the forest\n",
    "clf = RandomForestRegressor(n_estimators=64)\n",
    "scores = cross_val_score(clf, df.iloc[:, :-1], df.iloc[:, -1], cv=10)\n",
    "print(\"Mean Score : \", scores.mean())"
   ]
  },
  {
   "cell_type": "code",
   "execution_count": null,
   "metadata": {
    "collapsed": false
   },
   "outputs": [],
   "source": [
    "# 128 trees in the forest\n",
    "clf = RandomForestRegressor(n_estimators=128)\n",
    "scores = cross_val_score(clf, df.iloc[:, :-1], df.iloc[:, -1], cv=10)\n",
    "print(\"Mean Score : \", scores.mean())"
   ]
  },
  {
   "cell_type": "markdown",
   "metadata": {},
   "source": [
    "## Random Decision Forest Regressor Using Whole Dataset"
   ]
  },
  {
   "cell_type": "code",
   "execution_count": null,
   "metadata": {
    "collapsed": false
   },
   "outputs": [],
   "source": [
    "import numpy as np\n",
    "import pandas as pd\n",
    "from sklearn.model_selection import cross_val_score\n",
    "from sklearn.ensemble import RandomForestRegressor\n",
    "\n",
    "df = pd.read_csv('dataset.csv').sample(frac=1, random_state=0)\n",
    "\n",
    "# 64 trees in the forest\n",
    "clf = RandomForestRegressor(n_estimators=64)\n",
    "scores = cross_val_score(clf, df.iloc[:, :-1], df.iloc[:, -1], cv=3)\n",
    "print(\"Mean Score : \", scores.mean())"
   ]
  },
  {
   "cell_type": "code",
   "execution_count": null,
   "metadata": {
    "collapsed": false
   },
   "outputs": [],
   "source": [
    "# 128 trees in the forest\n",
    "clf = RandomForestRegressor(n_estimators=128)\n",
    "scores = cross_val_score(clf, df.iloc[:, :-1], df.iloc[:, -1], cv=3)\n",
    "print(\"Mean Score : \", scores.mean())"
   ]
  },
  {
   "cell_type": "markdown",
   "metadata": {},
   "source": [
    "## Tuning Parameters"
   ]
  },
  {
   "cell_type": "code",
   "execution_count": null,
   "metadata": {
    "collapsed": false
   },
   "outputs": [],
   "source": [
    "import numpy as np\n",
    "import pandas as pd\n",
    "from sklearn.model_selection import GridSearchCV\n",
    "from sklearn.ensemble import RandomForestRegressor\n",
    "\n",
    "df = pd.read_csv('one-tenth-dataset.csv')\n",
    "\n",
    "parameters = {'n_estimators': range(10, 100, 10)}\n",
    "clf = GridSearchCV(RandomForestRegressor(), parameters)\n",
    "\n",
    "clf.fit(df.iloc[:, :-1], df.iloc[:, -1])\n",
    "\n",
    "print('Best Parameters', clf.best_params_)\n",
    "print('Best Score : ', clf.best_score_)\n",
    "print(pd.DataFrame(clf.cv_results_))"
   ]
  }
 ],
 "metadata": {
  "kernelspec": {
   "display_name": "Python 3",
   "language": "python",
   "name": "python3"
  },
  "language_info": {
   "codemirror_mode": {
    "name": "ipython",
    "version": 3
   },
   "file_extension": ".py",
   "mimetype": "text/x-python",
   "name": "python",
   "nbconvert_exporter": "python",
   "pygments_lexer": "ipython3",
   "version": "3.6.0"
  }
 },
 "nbformat": 4,
 "nbformat_minor": 2
}
